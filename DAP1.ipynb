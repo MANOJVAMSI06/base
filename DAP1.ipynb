{
  "nbformat": 4,
  "nbformat_minor": 0,
  "metadata": {
    "colab": {
      "provenance": [],
      "mount_file_id": "1OvnnpCPJtWcZZtC25xPoi2VSSRpeoaDC",
      "authorship_tag": "ABX9TyOoHPg4OZdiBpvgJ5wWJWJX",
      "include_colab_link": true
    },
    "kernelspec": {
      "name": "python3",
      "display_name": "Python 3"
    },
    "language_info": {
      "name": "python"
    }
  },
  "cells": [
    {
      "cell_type": "markdown",
      "metadata": {
        "id": "view-in-github",
        "colab_type": "text"
      },
      "source": [
        "<a href=\"https://colab.research.google.com/github/MANOJVAMSI06/base/blob/main/DAP1.ipynb\" target=\"_parent\"><img src=\"https://colab.research.google.com/assets/colab-badge.svg\" alt=\"Open In Colab\"/></a>"
      ]
    },
    {
      "cell_type": "code",
      "execution_count": null,
      "metadata": {
        "colab": {
          "base_uri": "https://localhost:8080/"
        },
        "id": "U9H-FWDuUyQL",
        "outputId": "a2a4c014-1bbe-4ab9-f881-eb909eb6ddfa"
      },
      "outputs": [
        {
          "output_type": "stream",
          "name": "stdout",
          "text": [
            "Requirement already satisfied: numpy in /usr/local/lib/python3.10/dist-packages (1.23.5)\n"
          ]
        }
      ],
      "source": [
        "!pip install numpy\n",
        "import numpy as np"
      ]
    },
    {
      "cell_type": "code",
      "source": [
        "import numpy as np\n",
        "#creating arrays\n",
        "arr=np.array([1,2,3,4,5])\n",
        "print(arr)\n",
        "\n",
        "a=np.zeros((3,3),dtype=int)\n",
        "print(a)\n",
        "\n",
        "b=np.ones((2,2))\n",
        "print(b)\n",
        "\n",
        "arange=np.arange(10)\n",
        "print(arange)\n",
        "\n",
        "#array manipulation\n",
        "\n",
        "#reshaping function\n",
        "manip=arr.reshape(5,1)\n",
        "print(manip)\n",
        "\n",
        "#slice function\n",
        "sliced=arr[2:4]\n",
        "print(sliced)\n",
        "\n",
        "#vertical stack function\n",
        "a=np.array([1,2,3,4,5])\n",
        "b=np.array([6,7,8,9,10])\n",
        "c=np.vstack(a+b)\n",
        "print(c)\n",
        "\n",
        "#normal stack function\n",
        "a=np.array([1,2,3,4,5])\n",
        "b=np.array([6,7,8,9,10])\n",
        "c=np.stack(a+b)\n",
        "print(c)\n",
        "\n",
        "#split function\n",
        "a=np.array([1,2,3,4,5,6])\n",
        "b=np.split(a,2)\n",
        "print(b)\n",
        "\n",
        "#transpose function\n",
        "#2d array declaration\n",
        "a=np.array([[1,2,3],[4,5,6]])\n",
        "b=a.T\n",
        "print(b)\n",
        "\n"
      ],
      "metadata": {
        "colab": {
          "base_uri": "https://localhost:8080/"
        },
        "id": "0hEFFgkFVGtc",
        "outputId": "765d3a25-dea5-4e01-f213-dfc8c7506c10"
      },
      "execution_count": null,
      "outputs": [
        {
          "output_type": "stream",
          "name": "stdout",
          "text": [
            "[1 2 3 4 5]\n",
            "[[0 0 0]\n",
            " [0 0 0]\n",
            " [0 0 0]]\n",
            "[[1. 1.]\n",
            " [1. 1.]]\n",
            "[0 1 2 3 4 5 6 7 8 9]\n",
            "[[1]\n",
            " [2]\n",
            " [3]\n",
            " [4]\n",
            " [5]]\n",
            "[3 4]\n",
            "[[ 7]\n",
            " [ 9]\n",
            " [11]\n",
            " [13]\n",
            " [15]]\n",
            "[ 7  9 11 13 15]\n",
            "[array([1, 2, 3]), array([4, 5, 6])]\n",
            "[[1 4]\n",
            " [2 5]\n",
            " [3 6]]\n"
          ]
        }
      ]
    },
    {
      "cell_type": "code",
      "source": [
        "import numpy as np\n",
        "\n",
        "#element wise operations\n",
        "a1=np.array([1,2,3,4,5])\n",
        "a2=np.array([2,3,4,5,6])\n",
        "result=a1+a2\n",
        "print(result)\n",
        "\n",
        "#broadcasting\n",
        "a1=np.array([1,2,3,4,5])\n",
        "result1=a1+3\n",
        "print(result1)\n"
      ],
      "metadata": {
        "colab": {
          "base_uri": "https://localhost:8080/"
        },
        "id": "EzxUJvx7VwdX",
        "outputId": "a610f25b-4e3e-4416-851d-a6135d3a59dd"
      },
      "execution_count": null,
      "outputs": [
        {
          "output_type": "stream",
          "name": "stdout",
          "text": [
            "[ 3  5  7  9 11]\n",
            "[4 5 6 7 8]\n"
          ]
        }
      ]
    },
    {
      "cell_type": "code",
      "source": [
        "#linear algebra with numpy\n",
        "\n",
        "a1=np.array([[2,3],[3,2]])\n",
        "a2=np.array([[5,4],[4,5]])\n",
        "print(a1)\n",
        "print(a2)\n",
        "res=np.dot(a1,a2) #dot product\n",
        "print(res)\n",
        "d=np.linalg.eig(res )\n",
        "print(d)\n",
        "\n",
        "a1=np.array([[2,3,5],[2,3,6]])\n",
        "print(a1)\n",
        "b=np.sum(a1)\n",
        "print(b)\n",
        "a2=np.array([[5,6,7],[7,8,9]])\n",
        "b2=np.sum(a1+a2)\n",
        "print(b2)\n",
        "a2=np.array([[5,6,7],[7,8,9]])\n",
        "c=np.sum(a2, axis=0)#row wise addition\n",
        "\n",
        "d=np.sum(a2, axis=1)#column wise addition\n",
        "print(c)\n",
        "print(d)\n",
        "\n"
      ],
      "metadata": {
        "colab": {
          "base_uri": "https://localhost:8080/"
        },
        "id": "mvZHmsudV3D5",
        "outputId": "b59920f0-e0f4-463b-fdad-4e0ba8731343"
      },
      "execution_count": null,
      "outputs": [
        {
          "output_type": "stream",
          "name": "stdout",
          "text": [
            "[[2 3]\n",
            " [3 2]]\n",
            "[[5 4]\n",
            " [4 5]]\n",
            "[[22 23]\n",
            " [23 22]]\n",
            "(array([45., -1.]), array([[ 0.70710678, -0.70710678],\n",
            "       [ 0.70710678,  0.70710678]]))\n",
            "[[2 3 5]\n",
            " [2 3 6]]\n",
            "21\n",
            "63\n",
            "[12 14 16]\n",
            "[18 24]\n"
          ]
        }
      ]
    },
    {
      "cell_type": "code",
      "source": [
        "#statistical operations\n",
        "\n",
        "a=np.array([1,2,3,4,5])\n",
        "print(a)\n",
        "c=np.mean(a)#mean operation\n",
        "print(c)\n",
        "d=np.median(a)#median operation\n",
        "print(d)\n",
        "e=np.var(a)#variant operation\n",
        "print(e)\n",
        "f=np.std(a)#standard deviation operation\n",
        "print(f)"
      ],
      "metadata": {
        "colab": {
          "base_uri": "https://localhost:8080/"
        },
        "id": "dxkVB6oWV9Uq",
        "outputId": "c45da75b-413a-4e48-9471-7053dac7220c"
      },
      "execution_count": null,
      "outputs": [
        {
          "output_type": "stream",
          "name": "stdout",
          "text": [
            "[1 2 3 4 5]\n",
            "3.0\n",
            "3.0\n",
            "2.0\n",
            "1.4142135623730951\n"
          ]
        }
      ]
    },
    {
      "cell_type": "code",
      "source": [
        "#creating the dataset loading the dataset and saving the dataset\n",
        "import numpy as np\n",
        "data=np.loadtxt(\"/content/num.txt\", dtype=int)#loading text into program\n",
        "print(data)\n",
        "data=np.savetxt(\"/content/nu.txt\", data)#saving the txt file\n",
        "print(data)"
      ],
      "metadata": {
        "colab": {
          "base_uri": "https://localhost:8080/"
        },
        "id": "yXDeeOqVWFPK",
        "outputId": "40ef8941-8186-4787-dd52-a5b9032ecf27"
      },
      "execution_count": null,
      "outputs": [
        {
          "output_type": "stream",
          "name": "stdout",
          "text": [
            "[[ 1  2  3  4  5  5]\n",
            " [10  1 22 33 44 55]\n",
            " [12 13 14 15 16 17]]\n",
            "None\n"
          ]
        }
      ]
    },
    {
      "cell_type": "code",
      "source": [
        "import matplotlib.pyplot as plt\n",
        "a=np.array([1,2,3,4,5,6,7,8,9,10])\n",
        "b=np.array([2,3,4,1,5,6,7,9,2,3,9,10])\n",
        "plt.plot(a)\n",
        "plt.plot(b)"
      ],
      "metadata": {
        "colab": {
          "base_uri": "https://localhost:8080/",
          "height": 447
        },
        "id": "B7RBqPuTWTg7",
        "outputId": "972e642a-7f3b-432c-cdc6-aacab30bfbb4"
      },
      "execution_count": null,
      "outputs": [
        {
          "output_type": "execute_result",
          "data": {
            "text/plain": [
              "[<matplotlib.lines.Line2D at 0x7c2a0c6ea920>]"
            ]
          },
          "metadata": {},
          "execution_count": 19
        },
        {
          "output_type": "display_data",
          "data": {
            "text/plain": [
              "<Figure size 640x480 with 1 Axes>"
            ],
            "image/png": "[encoded data removed]"
          },
          "metadata": {}
        }
      ]
    },
    {
      "cell_type": "code",
      "source": [
        "import pandas as pd\n"
      ],
      "metadata": {
        "id": "dysgISyCsxlj"
      },
      "execution_count": null,
      "outputs": []
    },
    {
      "cell_type": "code",
      "source": [
        "a=['Jwalitha','Ramya','Durga','Jahnavi','Lahari','Raju','Ravi','Ramu']\n",
        "r=pd.Series(a,index=[99,33,35,12,67,89,32,44])\n",
        "print(r)\n"
      ],
      "metadata": {
        "id": "R4Sws-dIsscM",
        "colab": {
          "base_uri": "https://localhost:8080/"
        },
        "outputId": "787b6f5d-1c76-4087-8154-7c2a676774f8"
      },
      "execution_count": null,
      "outputs": [
        {
          "output_type": "stream",
          "name": "stdout",
          "text": [
            "99    Jwalitha\n",
            "33       Ramya\n",
            "35       Durga\n",
            "12     Jahnavi\n",
            "67      Lahari\n",
            "89        Raju\n",
            "32        Ravi\n",
            "44        Ramu\n",
            "dtype: object\n"
          ]
        }
      ]
    },
    {
      "cell_type": "code",
      "source": [
        "df=pd.read_csv(\"/content/archive (2).zip\")\n",
        "print(df)"
      ],
      "metadata": {
        "colab": {
          "base_uri": "https://localhost:8080/"
        },
        "id": "mKLew5reubeV",
        "outputId": "b8600d3e-2ee0-443c-c86f-b0f2ca4d37b4"
      },
      "execution_count": null,
      "outputs": [
        {
          "output_type": "stream",
          "name": "stdout",
          "text": [
            "     PassengerId  Survived\n",
            "0            892         0\n",
            "1            893         0\n",
            "2            894         0\n",
            "3            895         0\n",
            "4            896         1\n",
            "..           ...       ...\n",
            "413         1305         0\n",
            "414         1306         1\n",
            "415         1307         0\n",
            "416         1308         0\n",
            "417         1309         0\n",
            "\n",
            "[418 rows x 2 columns]\n"
          ]
        }
      ]
    },
    {
      "cell_type": "code",
      "source": [
        "df=pd.read_csv(\"/content/mmm.txt\",)\n",
        "print(df)\n"
      ],
      "metadata": {
        "colab": {
          "base_uri": "https://localhost:8080/"
        },
        "id": "rffMldxyxh_S",
        "outputId": "97d8d0bf-184a-473c-d3e8-43ea8c4e5d2b"
      },
      "execution_count": null,
      "outputs": [
        {
          "output_type": "stream",
          "name": "stdout",
          "text": [
            "  SLNO     NAME      ROLLNO       GENDER\n",
            "0   1      MANOJ    23A85A0504      MALE\n",
            "1   2      RAMU     23A85A0507      MALE\n",
            "2   3      SWARJAN  23A85A0506      MALE\n",
            "3   4     SHANNU    23A85A0507      MALE\n",
            "4   5     RAJU      23A85A0509      MALE\n"
          ]
        }
      ]
    },
    {
      "cell_type": "code",
      "source": [
        "df=pd.read_excel(\"/content/HR_Employee_Data.xlsx\")\n",
        "print(df)"
      ],
      "metadata": {
        "colab": {
          "base_uri": "https://localhost:8080/"
        },
        "id": "SiqSWcvD3KzQ",
        "outputId": "1044fedd-60d0-4ed5-d721-e42127b6e2a3"
      },
      "execution_count": null,
      "outputs": [
        {
          "output_type": "stream",
          "name": "stdout",
          "text": [
            "         Emp_Id  satisfaction_level  last_evaluation  number_project  \\\n",
            "0      IND02438                0.38             0.53               2   \n",
            "1      IND28133                0.80             0.86               5   \n",
            "2      IND07164                0.11             0.88               7   \n",
            "3      IND30478                0.72             0.87               5   \n",
            "4      IND24003                0.37             0.52               2   \n",
            "...         ...                 ...              ...             ...   \n",
            "14994  IND40221                0.40             0.57               2   \n",
            "14995  IND24196                0.37             0.48               2   \n",
            "14996  IND33544                0.37             0.53               2   \n",
            "14997  IND40533                0.11             0.96               6   \n",
            "14998  IND11649                0.37             0.52               2   \n",
            "\n",
            "       average_montly_hours  time_spend_company  Work_accident  left  \\\n",
            "0                       157                   3              0     1   \n",
            "1                       262                   6              0     1   \n",
            "2                       272                   4              0     1   \n",
            "3                       223                   5              0     1   \n",
            "4                       159                   3              0     1   \n",
            "...                     ...                 ...            ...   ...   \n",
            "14994                   151                   3              0     1   \n",
            "14995                   160                   3              0     1   \n",
            "14996                   143                   3              0     1   \n",
            "14997                   280                   4              0     1   \n",
            "14998                   158                   3              0     1   \n",
            "\n",
            "       promotion_last_5years Department  salary  \n",
            "0                          0      sales     low  \n",
            "1                          0      sales  medium  \n",
            "2                          0      sales  medium  \n",
            "3                          0      sales     low  \n",
            "4                          0      sales     low  \n",
            "...                      ...        ...     ...  \n",
            "14994                      0    support     low  \n",
            "14995                      0    support     low  \n",
            "14996                      0    support     low  \n",
            "14997                      0    support     low  \n",
            "14998                      0    support     low  \n",
            "\n",
            "[14999 rows x 11 columns]\n"
          ]
        }
      ]
    },
    {
      "cell_type": "code",
      "source": [
        "df=pd.read_excel(\"/content/HR_Employee_Data.xlsx\",sheet_name=0)\n",
        "print(df)"
      ],
      "metadata": {
        "colab": {
          "base_uri": "https://localhost:8080/"
        },
        "id": "EVcTdv9h4OWC",
        "outputId": "94dfd3fa-31d6-48ea-f338-41d0fa2e4166"
      },
      "execution_count": null,
      "outputs": [
        {
          "output_type": "stream",
          "name": "stdout",
          "text": [
            "         Emp_Id  satisfaction_level  last_evaluation  number_project  \\\n",
            "0      IND02438                0.38             0.53               2   \n",
            "1      IND28133                0.80             0.86               5   \n",
            "2      IND07164                0.11             0.88               7   \n",
            "3      IND30478                0.72             0.87               5   \n",
            "4      IND24003                0.37             0.52               2   \n",
            "...         ...                 ...              ...             ...   \n",
            "14994  IND40221                0.40             0.57               2   \n",
            "14995  IND24196                0.37             0.48               2   \n",
            "14996  IND33544                0.37             0.53               2   \n",
            "14997  IND40533                0.11             0.96               6   \n",
            "14998  IND11649                0.37             0.52               2   \n",
            "\n",
            "       average_montly_hours  time_spend_company  Work_accident  left  \\\n",
            "0                       157                   3              0     1   \n",
            "1                       262                   6              0     1   \n",
            "2                       272                   4              0     1   \n",
            "3                       223                   5              0     1   \n",
            "4                       159                   3              0     1   \n",
            "...                     ...                 ...            ...   ...   \n",
            "14994                   151                   3              0     1   \n",
            "14995                   160                   3              0     1   \n",
            "14996                   143                   3              0     1   \n",
            "14997                   280                   4              0     1   \n",
            "14998                   158                   3              0     1   \n",
            "\n",
            "       promotion_last_5years Department  salary  \n",
            "0                          0      sales     low  \n",
            "1                          0      sales  medium  \n",
            "2                          0      sales  medium  \n",
            "3                          0      sales     low  \n",
            "4                          0      sales     low  \n",
            "...                      ...        ...     ...  \n",
            "14994                      0    support     low  \n",
            "14995                      0    support     low  \n",
            "14996                      0    support     low  \n",
            "14997                      0    support     low  \n",
            "14998                      0    support     low  \n",
            "\n",
            "[14999 rows x 11 columns]\n"
          ]
        }
      ]
    },
    {
      "cell_type": "code",
      "source": [
        "print(df.loc[1])"
      ],
      "metadata": {
        "colab": {
          "base_uri": "https://localhost:8080/"
        },
        "id": "NzJcM7K97Y-l",
        "outputId": "b75f5844-e90c-4112-c91d-c5bc96bf434a"
      },
      "execution_count": null,
      "outputs": [
        {
          "output_type": "stream",
          "name": "stdout",
          "text": [
            "Emp_Id                   IND28133\n",
            "satisfaction_level            0.8\n",
            "last_evaluation              0.86\n",
            "number_project                  5\n",
            "average_montly_hours          262\n",
            "time_spend_company              6\n",
            "Work_accident                   0\n",
            "left                            1\n",
            "promotion_last_5years           0\n",
            "Department                  sales\n",
            "salary                     medium\n",
            "Name: 1, dtype: object\n"
          ]
        }
      ]
    },
    {
      "cell_type": "code",
      "source": [
        "df=pd.read_excel(\"/content/test.xlsx\")\n",
        "print(df)"
      ],
      "metadata": {
        "colab": {
          "base_uri": "https://localhost:8080/"
        },
        "id": "DbB2JUff77fu",
        "outputId": "ddf846a9-00b7-4d66-f428-db4d860cb318"
      },
      "execution_count": null,
      "outputs": [
        {
          "output_type": "stream",
          "name": "stdout",
          "text": [
            "   Name of the Volunteer           Head of the family   \\\n",
            "0             ch sravani           kommina  Mohan rao    \n",
            "1             ch sravani            Kommina Mohan rao    \n",
            "2             ch sravani             Marimudi Prakash    \n",
            "3             ch sravani      Chokka Gnana Prakash rao   \n",
            "4             ch sravani         Nunna  Jagapathi babu   \n",
            "5             ch sravani                Nunna Radhika    \n",
            "6             ch sravani                Nunna Radhika    \n",
            "7             ch sravani            Chokka  Devadanam    \n",
            "8             ch sravani             Rachaprolu Ramulu   \n",
            "9             ch sravani               vase Anandharao   \n",
            "10            ch sravani            Gorinkala Devadasu   \n",
            "11            ch sravani           Doddigarla pullayya   \n",
            "12            ch sravani             Nethala  Davidhu    \n",
            "13            ch sravani           Dasari Prakash rao    \n",
            "14            ch sravani             Adamelli  miramma   \n",
            "15            ch sravani        chokka lakshmi kantham   \n",
            "16            ch sravani          chikakolu gangaraju    \n",
            "17             m sirisha       sathyavarapu nagaswarao   \n",
            "18             m sirisha        lingampalli nageswarao   \n",
            "19             m sirisha  sathyavarapu vera venkayamma   \n",
            "20             m sirisha  lingampalli mahalakshamanudu   \n",
            "21             m sirisha         balina srimannarayana   \n",
            "22            ML sirisha              goru gangadharao   \n",
            "23            ML sirisha            rajulapudi apparao   \n",
            "24            ML sirisha       konakalla satyanarayana   \n",
            "25            ML sirisha           gullapudi  musalaya   \n",
            "26               m ramya         kondeti venkateswarao   \n",
            "27               m ramya               bogadhi apparao   \n",
            "28          m sudharshan              parasa gangaraju   \n",
            "29          m sudharshan              parasa gangaraju   \n",
            "30          m sudharshan                    sk kasamma   \n",
            "31          m sudharshan            konakalla subbarao   \n",
            "32          m sudharshan            konakalla subbarao   \n",
            "33          m sudharshan                meka kanakamma   \n",
            "34          m sudharshan            madhu suryakantham   \n",
            "35          m sudharshan                 parasa ratalu   \n",
            "36            M radhamma             madhu malleswarao   \n",
            "37            M radhamma             madhu malleswarao   \n",
            "\n",
            "   Name of the Candidate/Citizen  Age/Sex Death/Migration  AREA  \n",
            "0                   k Mohan rao        32          Death    NaN  \n",
            "1                     K yestheru       30             NaN   NaN  \n",
            "2                    M  Prakash        80             NaN   NaN  \n",
            "3                ch  Prakash rao       75             NaN   NaN  \n",
            "4               N jagapathi babu       85             NaN   NaN  \n",
            "5                 Nunna Radhika        50             NaN   NaN  \n",
            "6                N  .hsvs kumar        35             NaN   NaN  \n",
            "7                  ch Devadanam        48             NaN   NaN  \n",
            "8                       R Ramulu       80             NaN   NaN  \n",
            "9                    V anandharo       90             NaN   NaN  \n",
            "10              G Laxmi kantham        62             NaN   NaN  \n",
            "11                   D pullayya        80             NaN   NaN  \n",
            "12                    N Davidhu        80             NaN   NaN  \n",
            "13                D Prakash rao        85             NaN   NaN  \n",
            "14                     A miramma       70           death   NaN  \n",
            "15            Ch lakshmi kantham       73           death   NaN  \n",
            "16                 ch gangaraju        75          death    NaN  \n",
            "17                       s padma       47          death    NaN  \n",
            "18                  l nageswarao       70          death    NaN  \n",
            "19                     s naramma       70           death   NaN  \n",
            "20             l mahalakshmanudu       70           death   NaN  \n",
            "21              b srimannarayana       80           death   NaN  \n",
            "22                 g gangadharao       50          death    NaN  \n",
            "23                     r apparao       66          death    NaN  \n",
            "24               k satyanarayana       60           death   NaN  \n",
            "25                    g musalaya       76          death    NaN  \n",
            "26               k venkateswarao       82           death   NaN  \n",
            "27                     b apparao       67          death    NaN  \n",
            "28                   p gangaraju       77           death   NaN  \n",
            "29        siribathina raghupathi       82          death    NaN  \n",
            "30                    sk allabhi       19           death   NaN  \n",
            "31                  k punyavathi       78           death   NaN  \n",
            "32             k kanakadurgambha       82           death   NaN  \n",
            "33                   m kanakamma       47           death   NaN  \n",
            "34                m suryakantham       87          death    NaN  \n",
            "35                      p ratalu       47           death   NaN  \n",
            "36                 m malleswarao       62          death    NaN  \n",
            "37                    m rangamma       57          Death    NaN  \n"
          ]
        }
      ]
    },
    {
      "cell_type": "code",
      "source": [
        "mv=df['Age/Sex'].mean()\n",
        "df=df.fillna(mv)\n",
        "print(df)"
      ],
      "metadata": {
        "colab": {
          "base_uri": "https://localhost:8080/"
        },
        "id": "fLaiI4Ku-mhV",
        "outputId": "b9d0320f-f023-4cb2-cf76-5fab2a4ac93f"
      },
      "execution_count": null,
      "outputs": [
        {
          "output_type": "stream",
          "name": "stdout",
          "text": [
            "   Name of the Volunteer           Head of the family   \\\n",
            "0             ch sravani           kommina  Mohan rao    \n",
            "1             ch sravani            Kommina Mohan rao    \n",
            "2             ch sravani             Marimudi Prakash    \n",
            "3             ch sravani      Chokka Gnana Prakash rao   \n",
            "4             ch sravani         Nunna  Jagapathi babu   \n",
            "5             ch sravani                Nunna Radhika    \n",
            "6             ch sravani                Nunna Radhika    \n",
            "7             ch sravani            Chokka  Devadanam    \n",
            "8             ch sravani             Rachaprolu Ramulu   \n",
            "9             ch sravani               vase Anandharao   \n",
            "10            ch sravani            Gorinkala Devadasu   \n",
            "11            ch sravani           Doddigarla pullayya   \n",
            "12            ch sravani             Nethala  Davidhu    \n",
            "13            ch sravani           Dasari Prakash rao    \n",
            "14            ch sravani             Adamelli  miramma   \n",
            "15            ch sravani        chokka lakshmi kantham   \n",
            "16            ch sravani          chikakolu gangaraju    \n",
            "17             m sirisha       sathyavarapu nagaswarao   \n",
            "18             m sirisha        lingampalli nageswarao   \n",
            "19             m sirisha  sathyavarapu vera venkayamma   \n",
            "20             m sirisha  lingampalli mahalakshamanudu   \n",
            "21             m sirisha         balina srimannarayana   \n",
            "22            ML sirisha              goru gangadharao   \n",
            "23            ML sirisha            rajulapudi apparao   \n",
            "24            ML sirisha       konakalla satyanarayana   \n",
            "25            ML sirisha           gullapudi  musalaya   \n",
            "26               m ramya         kondeti venkateswarao   \n",
            "27               m ramya               bogadhi apparao   \n",
            "28          m sudharshan              parasa gangaraju   \n",
            "29          m sudharshan              parasa gangaraju   \n",
            "30          m sudharshan                    sk kasamma   \n",
            "31          m sudharshan            konakalla subbarao   \n",
            "32          m sudharshan            konakalla subbarao   \n",
            "33          m sudharshan                meka kanakamma   \n",
            "34          m sudharshan            madhu suryakantham   \n",
            "35          m sudharshan                 parasa ratalu   \n",
            "36            M radhamma             madhu malleswarao   \n",
            "37            M radhamma             madhu malleswarao   \n",
            "\n",
            "   Name of the Candidate/Citizen  Age/Sex Death/Migration       AREA  \n",
            "0                   k Mohan rao        32          Death   65.947368  \n",
            "1                     K yestheru       30       65.947368  65.947368  \n",
            "2                    M  Prakash        80       65.947368  65.947368  \n",
            "3                ch  Prakash rao       75       65.947368  65.947368  \n",
            "4               N jagapathi babu       85       65.947368  65.947368  \n",
            "5                 Nunna Radhika        50       65.947368  65.947368  \n",
            "6                N  .hsvs kumar        35       65.947368  65.947368  \n",
            "7                  ch Devadanam        48       65.947368  65.947368  \n",
            "8                       R Ramulu       80       65.947368  65.947368  \n",
            "9                    V anandharo       90       65.947368  65.947368  \n",
            "10              G Laxmi kantham        62       65.947368  65.947368  \n",
            "11                   D pullayya        80       65.947368  65.947368  \n",
            "12                    N Davidhu        80       65.947368  65.947368  \n",
            "13                D Prakash rao        85       65.947368  65.947368  \n",
            "14                     A miramma       70           death  65.947368  \n",
            "15            Ch lakshmi kantham       73           death  65.947368  \n",
            "16                 ch gangaraju        75          death   65.947368  \n",
            "17                       s padma       47          death   65.947368  \n",
            "18                  l nageswarao       70          death   65.947368  \n",
            "19                     s naramma       70           death  65.947368  \n",
            "20             l mahalakshmanudu       70           death  65.947368  \n",
            "21              b srimannarayana       80           death  65.947368  \n",
            "22                 g gangadharao       50          death   65.947368  \n",
            "23                     r apparao       66          death   65.947368  \n",
            "24               k satyanarayana       60           death  65.947368  \n",
            "25                    g musalaya       76          death   65.947368  \n",
            "26               k venkateswarao       82           death  65.947368  \n",
            "27                     b apparao       67          death   65.947368  \n",
            "28                   p gangaraju       77           death  65.947368  \n",
            "29        siribathina raghupathi       82          death   65.947368  \n",
            "30                    sk allabhi       19           death  65.947368  \n",
            "31                  k punyavathi       78           death  65.947368  \n",
            "32             k kanakadurgambha       82           death  65.947368  \n",
            "33                   m kanakamma       47           death  65.947368  \n",
            "34                m suryakantham       87          death   65.947368  \n",
            "35                      p ratalu       47           death  65.947368  \n",
            "36                 m malleswarao       62          death   65.947368  \n",
            "37                    m rangamma       57          Death   65.947368  \n"
          ]
        }
      ]
    },
    {
      "cell_type": "code",
      "source": [
        "df=pd.read_excel(\"/content/test.xlsx\")\n",
        "print(df)"
      ],
      "metadata": {
        "colab": {
          "base_uri": "https://localhost:8080/"
        },
        "id": "eKghZdDO_17z",
        "outputId": "752ac611-22e4-4715-8de5-15149541b80b"
      },
      "execution_count": null,
      "outputs": [
        {
          "output_type": "stream",
          "name": "stdout",
          "text": [
            "   Name of the Volunteer           Head of the family   \\\n",
            "0             ch sravani           kommina  Mohan rao    \n",
            "1             ch sravani            Kommina Mohan rao    \n",
            "2             ch sravani             Marimudi Prakash    \n",
            "3             ch sravani      Chokka Gnana Prakash rao   \n",
            "4             ch sravani         Nunna  Jagapathi babu   \n",
            "5             ch sravani                Nunna Radhika    \n",
            "6             ch sravani                Nunna Radhika    \n",
            "7             ch sravani            Chokka  Devadanam    \n",
            "8             ch sravani             Rachaprolu Ramulu   \n",
            "9             ch sravani               vase Anandharao   \n",
            "10            ch sravani            Gorinkala Devadasu   \n",
            "11            ch sravani           Doddigarla pullayya   \n",
            "12            ch sravani             Nethala  Davidhu    \n",
            "13            ch sravani           Dasari Prakash rao    \n",
            "14            ch sravani             Adamelli  miramma   \n",
            "15            ch sravani        chokka lakshmi kantham   \n",
            "16            ch sravani          chikakolu gangaraju    \n",
            "17             m sirisha       sathyavarapu nagaswarao   \n",
            "18             m sirisha        lingampalli nageswarao   \n",
            "19             m sirisha  sathyavarapu vera venkayamma   \n",
            "20             m sirisha  lingampalli mahalakshamanudu   \n",
            "21             m sirisha         balina srimannarayana   \n",
            "22            ML sirisha              goru gangadharao   \n",
            "23            ML sirisha            rajulapudi apparao   \n",
            "24            ML sirisha       konakalla satyanarayana   \n",
            "25            ML sirisha           gullapudi  musalaya   \n",
            "26               m ramya         kondeti venkateswarao   \n",
            "27               m ramya               bogadhi apparao   \n",
            "28          m sudharshan              parasa gangaraju   \n",
            "29          m sudharshan              parasa gangaraju   \n",
            "30          m sudharshan                    sk kasamma   \n",
            "31          m sudharshan            konakalla subbarao   \n",
            "32          m sudharshan            konakalla subbarao   \n",
            "33          m sudharshan                meka kanakamma   \n",
            "34          m sudharshan            madhu suryakantham   \n",
            "35          m sudharshan                 parasa ratalu   \n",
            "36            M radhamma             madhu malleswarao   \n",
            "37            M radhamma             madhu malleswarao   \n",
            "\n",
            "   Name of the Candidate/Citizen  Age/Sex Death/Migration  AREA  \n",
            "0                   k Mohan rao      32.0          Death    NaN  \n",
            "1                     K yestheru     30.0             NaN   NaN  \n",
            "2                    M  Prakash      80.0             NaN   NaN  \n",
            "3                ch  Prakash rao     75.0             NaN   NaN  \n",
            "4               N jagapathi babu     85.0             NaN   NaN  \n",
            "5                 Nunna Radhika      50.0             NaN   NaN  \n",
            "6                N  .hsvs kumar      35.0             NaN   NaN  \n",
            "7                  ch Devadanam      48.0             NaN   NaN  \n",
            "8                       R Ramulu     80.0             NaN   NaN  \n",
            "9                    V anandharo     90.0             NaN   NaN  \n",
            "10              G Laxmi kantham      62.0             NaN   NaN  \n",
            "11                   D pullayya      80.0             NaN   NaN  \n",
            "12                    N Davidhu      80.0             NaN   NaN  \n",
            "13                D Prakash rao      85.0             NaN   NaN  \n",
            "14                     A miramma     70.0           death   NaN  \n",
            "15            Ch lakshmi kantham     73.0           death   NaN  \n",
            "16                 ch gangaraju      75.0          death    NaN  \n",
            "17                       s padma     47.0          death    NaN  \n",
            "18                  l nageswarao     70.0          death    NaN  \n",
            "19                     s naramma     70.0           death   NaN  \n",
            "20             l mahalakshmanudu     70.0           death   NaN  \n",
            "21              b srimannarayana     80.0           death   NaN  \n",
            "22                 g gangadharao      NaN          death    NaN  \n",
            "23                     r apparao      NaN          death    NaN  \n",
            "24               k satyanarayana     60.0           death   NaN  \n",
            "25                    g musalaya     76.0          death    NaN  \n",
            "26               k venkateswarao     82.0           death   NaN  \n",
            "27                     b apparao     67.0          death    NaN  \n",
            "28                   p gangaraju     77.0           death   NaN  \n",
            "29        siribathina raghupathi     82.0          death    NaN  \n",
            "30                    sk allabhi     19.0           death   NaN  \n",
            "31                  k punyavathi      NaN           death   NaN  \n",
            "32             k kanakadurgambha      NaN           death   NaN  \n",
            "33                   m kanakamma     47.0           death   NaN  \n",
            "34                m suryakantham     87.0          death    NaN  \n",
            "35                      p ratalu     47.0           death   NaN  \n",
            "36                 m malleswarao     62.0          death    NaN  \n",
            "37                    m rangamma     57.0          Death    NaN  \n"
          ]
        }
      ]
    },
    {
      "cell_type": "code",
      "source": [
        "mv=df['Age/Sex'].mean()\n",
        "df=df.fillna(mv)\n",
        "print(df)\n",
        "df.shape"
      ],
      "metadata": {
        "colab": {
          "base_uri": "https://localhost:8080/"
        },
        "id": "0p1co-p6AFZ5",
        "outputId": "fe3e4683-5944-40c7-fc2a-89f6ec5ea1b7"
      },
      "execution_count": null,
      "outputs": [
        {
          "output_type": "stream",
          "name": "stdout",
          "text": [
            "   Name of the Volunteer           Head of the family   \\\n",
            "0             ch sravani           kommina  Mohan rao    \n",
            "1             ch sravani            Kommina Mohan rao    \n",
            "2             ch sravani             Marimudi Prakash    \n",
            "3             ch sravani      Chokka Gnana Prakash rao   \n",
            "4             ch sravani         Nunna  Jagapathi babu   \n",
            "5             ch sravani                Nunna Radhika    \n",
            "6             ch sravani                Nunna Radhika    \n",
            "7             ch sravani            Chokka  Devadanam    \n",
            "8             ch sravani             Rachaprolu Ramulu   \n",
            "9             ch sravani               vase Anandharao   \n",
            "10            ch sravani            Gorinkala Devadasu   \n",
            "11            ch sravani           Doddigarla pullayya   \n",
            "12            ch sravani             Nethala  Davidhu    \n",
            "13            ch sravani           Dasari Prakash rao    \n",
            "14            ch sravani             Adamelli  miramma   \n",
            "15            ch sravani        chokka lakshmi kantham   \n",
            "16            ch sravani          chikakolu gangaraju    \n",
            "17             m sirisha       sathyavarapu nagaswarao   \n",
            "18             m sirisha        lingampalli nageswarao   \n",
            "19             m sirisha  sathyavarapu vera venkayamma   \n",
            "20             m sirisha  lingampalli mahalakshamanudu   \n",
            "21             m sirisha         balina srimannarayana   \n",
            "22            ML sirisha              goru gangadharao   \n",
            "23            ML sirisha            rajulapudi apparao   \n",
            "24            ML sirisha       konakalla satyanarayana   \n",
            "25            ML sirisha           gullapudi  musalaya   \n",
            "26               m ramya         kondeti venkateswarao   \n",
            "27               m ramya               bogadhi apparao   \n",
            "28          m sudharshan              parasa gangaraju   \n",
            "29          m sudharshan              parasa gangaraju   \n",
            "30          m sudharshan                    sk kasamma   \n",
            "31          m sudharshan            konakalla subbarao   \n",
            "32          m sudharshan            konakalla subbarao   \n",
            "33          m sudharshan                meka kanakamma   \n",
            "34          m sudharshan            madhu suryakantham   \n",
            "35          m sudharshan                 parasa ratalu   \n",
            "36            M radhamma             madhu malleswarao   \n",
            "37            M radhamma             madhu malleswarao   \n",
            "\n",
            "   Name of the Candidate/Citizen    Age/Sex Death/Migration       AREA  \n",
            "0                   k Mohan rao   32.000000          Death   65.588235  \n",
            "1                     K yestheru  30.000000       65.588235  65.588235  \n",
            "2                    M  Prakash   80.000000       65.588235  65.588235  \n",
            "3                ch  Prakash rao  75.000000       65.588235  65.588235  \n",
            "4               N jagapathi babu  85.000000       65.588235  65.588235  \n",
            "5                 Nunna Radhika   50.000000       65.588235  65.588235  \n",
            "6                N  .hsvs kumar   35.000000       65.588235  65.588235  \n",
            "7                  ch Devadanam   48.000000       65.588235  65.588235  \n",
            "8                       R Ramulu  80.000000       65.588235  65.588235  \n",
            "9                    V anandharo  90.000000       65.588235  65.588235  \n",
            "10              G Laxmi kantham   62.000000       65.588235  65.588235  \n",
            "11                   D pullayya   80.000000       65.588235  65.588235  \n",
            "12                    N Davidhu   80.000000       65.588235  65.588235  \n",
            "13                D Prakash rao   85.000000       65.588235  65.588235  \n",
            "14                     A miramma  70.000000           death  65.588235  \n",
            "15            Ch lakshmi kantham  73.000000           death  65.588235  \n",
            "16                 ch gangaraju   75.000000          death   65.588235  \n",
            "17                       s padma  47.000000          death   65.588235  \n",
            "18                  l nageswarao  70.000000          death   65.588235  \n",
            "19                     s naramma  70.000000           death  65.588235  \n",
            "20             l mahalakshmanudu  70.000000           death  65.588235  \n",
            "21              b srimannarayana  80.000000           death  65.588235  \n",
            "22                 g gangadharao  65.588235          death   65.588235  \n",
            "23                     r apparao  65.588235          death   65.588235  \n",
            "24               k satyanarayana  60.000000           death  65.588235  \n",
            "25                    g musalaya  76.000000          death   65.588235  \n",
            "26               k venkateswarao  82.000000           death  65.588235  \n",
            "27                     b apparao  67.000000          death   65.588235  \n",
            "28                   p gangaraju  77.000000           death  65.588235  \n",
            "29        siribathina raghupathi  82.000000          death   65.588235  \n",
            "30                    sk allabhi  19.000000           death  65.588235  \n",
            "31                  k punyavathi  65.588235           death  65.588235  \n",
            "32             k kanakadurgambha  65.588235           death  65.588235  \n",
            "33                   m kanakamma  47.000000           death  65.588235  \n",
            "34                m suryakantham  87.000000          death   65.588235  \n",
            "35                      p ratalu  47.000000           death  65.588235  \n",
            "36                 m malleswarao  62.000000          death   65.588235  \n",
            "37                    m rangamma  57.000000          Death   65.588235  \n"
          ]
        },
        {
          "output_type": "execute_result",
          "data": {
            "text/plain": [
              "(38, 6)"
            ]
          },
          "metadata": {},
          "execution_count": 69
        }
      ]
    },
    {
      "cell_type": "code",
      "source": [
        "rr=pd.read_excel(\"/content/duplicate.xlsx\")\n",
        "print(rr)\n",
        "rr.shape\n",
        "\n",
        "testing=rr.tail(10)\n",
        "for i in range(38,28,-1):\n",
        "  rr.drop([i],axis=0, inplace=True)\n",
        "\n",
        "testingfake=rr.tail(10)\n",
        "for i in range(38,28,-1):\n",
        "   rr.drop([i],axis=0, inplace=True)\n",
        "\n",
        "\n"
      ],
      "metadata": {
        "colab": {
          "base_uri": "https://localhost:8080/",
          "height": 563
        },
        "id": "5gGWRq9sBV2H",
        "outputId": "2da4189c-c646-44bd-99e6-13e0abd5969b"
      },
      "execution_count": null,
      "outputs": [
        {
          "output_type": "stream",
          "name": "stdout",
          "text": [
            "   SL   NAME  AGE\n",
            "0   1  MANOJ   20\n",
            "1   1   RAJU   30\n",
            "2   3   RAMU   21\n",
            "3   4   RAVI   55\n",
            "4   1  MANOJ   20\n",
            "5   1  MANOJ   20\n",
            "6   7   NAGU   55\n",
            "7   8   RAJU   26\n",
            "8   9   ANAD   22\n"
          ]
        },
        {
          "output_type": "error",
          "ename": "KeyError",
          "evalue": "'[38] not found in axis'",
          "traceback": [
            "\u001b[0;31m---------------------------------------------------------------------------\u001b[0m",
            "\u001b[0;31mKeyError\u001b[0m                                  Traceback (most recent call last)",
            "\u001b[0;32m<ipython-input-70-99a6d4bc1bad>\u001b[0m in \u001b[0;36m<cell line: 6>\u001b[0;34m()\u001b[0m\n\u001b[1;32m      5\u001b[0m \u001b[0mtesting\u001b[0m\u001b[0;34m=\u001b[0m\u001b[0mrr\u001b[0m\u001b[0;34m.\u001b[0m\u001b[0mtail\u001b[0m\u001b[0;34m(\u001b[0m\u001b[0;36m10\u001b[0m\u001b[0;34m)\u001b[0m\u001b[0;34m\u001b[0m\u001b[0;34m\u001b[0m\u001b[0m\n\u001b[1;32m      6\u001b[0m \u001b[0;32mfor\u001b[0m \u001b[0mi\u001b[0m \u001b[0;32min\u001b[0m \u001b[0mrange\u001b[0m\u001b[0;34m(\u001b[0m\u001b[0;36m38\u001b[0m\u001b[0;34m,\u001b[0m\u001b[0;36m28\u001b[0m\u001b[0;34m,\u001b[0m\u001b[0;34m-\u001b[0m\u001b[0;36m1\u001b[0m\u001b[0;34m)\u001b[0m\u001b[0;34m:\u001b[0m\u001b[0;34m\u001b[0m\u001b[0;34m\u001b[0m\u001b[0m\n\u001b[0;32m----> 7\u001b[0;31m   \u001b[0mrr\u001b[0m\u001b[0;34m.\u001b[0m\u001b[0mdrop\u001b[0m\u001b[0;34m(\u001b[0m\u001b[0;34m[\u001b[0m\u001b[0mi\u001b[0m\u001b[0;34m]\u001b[0m\u001b[0;34m,\u001b[0m\u001b[0maxis\u001b[0m\u001b[0;34m=\u001b[0m\u001b[0;36m0\u001b[0m\u001b[0;34m,\u001b[0m \u001b[0minplace\u001b[0m\u001b[0;34m=\u001b[0m\u001b[0;32mTrue\u001b[0m\u001b[0;34m)\u001b[0m\u001b[0;34m\u001b[0m\u001b[0;34m\u001b[0m\u001b[0m\n\u001b[0m\u001b[1;32m      8\u001b[0m \u001b[0;34m\u001b[0m\u001b[0m\n\u001b[1;32m      9\u001b[0m \u001b[0mtestingfake\u001b[0m\u001b[0;34m=\u001b[0m\u001b[0mrr\u001b[0m\u001b[0;34m.\u001b[0m\u001b[0mtail\u001b[0m\u001b[0;34m(\u001b[0m\u001b[0;36m10\u001b[0m\u001b[0;34m)\u001b[0m\u001b[0;34m\u001b[0m\u001b[0;34m\u001b[0m\u001b[0m\n",
            "\u001b[0;32m/usr/local/lib/python3.10/dist-packages/pandas/util/_decorators.py\u001b[0m in \u001b[0;36mwrapper\u001b[0;34m(*args, **kwargs)\u001b[0m\n\u001b[1;32m    329\u001b[0m                     \u001b[0mstacklevel\u001b[0m\u001b[0;34m=\u001b[0m\u001b[0mfind_stack_level\u001b[0m\u001b[0;34m(\u001b[0m\u001b[0;34m)\u001b[0m\u001b[0;34m,\u001b[0m\u001b[0;34m\u001b[0m\u001b[0;34m\u001b[0m\u001b[0m\n\u001b[1;32m    330\u001b[0m                 )\n\u001b[0;32m--> 331\u001b[0;31m             \u001b[0;32mreturn\u001b[0m \u001b[0mfunc\u001b[0m\u001b[0;34m(\u001b[0m\u001b[0;34m*\u001b[0m\u001b[0margs\u001b[0m\u001b[0;34m,\u001b[0m \u001b[0;34m**\u001b[0m\u001b[0mkwargs\u001b[0m\u001b[0;34m)\u001b[0m\u001b[0;34m\u001b[0m\u001b[0;34m\u001b[0m\u001b[0m\n\u001b[0m\u001b[1;32m    332\u001b[0m \u001b[0;34m\u001b[0m\u001b[0m\n\u001b[1;32m    333\u001b[0m         \u001b[0;31m# error: \"Callable[[VarArg(Any), KwArg(Any)], Any]\" has no\u001b[0m\u001b[0;34m\u001b[0m\u001b[0;34m\u001b[0m\u001b[0m\n",
            "\u001b[0;32m/usr/local/lib/python3.10/dist-packages/pandas/core/frame.py\u001b[0m in \u001b[0;36mdrop\u001b[0;34m(self, labels, axis, index, columns, level, inplace, errors)\u001b[0m\n\u001b[1;32m   5397\u001b[0m                 \u001b[0mweight\u001b[0m  \u001b[0;36m1.0\u001b[0m     \u001b[0;36m0.8\u001b[0m\u001b[0;34m\u001b[0m\u001b[0;34m\u001b[0m\u001b[0m\n\u001b[1;32m   5398\u001b[0m         \"\"\"\n\u001b[0;32m-> 5399\u001b[0;31m         return super().drop(\n\u001b[0m\u001b[1;32m   5400\u001b[0m             \u001b[0mlabels\u001b[0m\u001b[0;34m=\u001b[0m\u001b[0mlabels\u001b[0m\u001b[0;34m,\u001b[0m\u001b[0;34m\u001b[0m\u001b[0;34m\u001b[0m\u001b[0m\n\u001b[1;32m   5401\u001b[0m             \u001b[0maxis\u001b[0m\u001b[0;34m=\u001b[0m\u001b[0maxis\u001b[0m\u001b[0;34m,\u001b[0m\u001b[0;34m\u001b[0m\u001b[0;34m\u001b[0m\u001b[0m\n",
            "\u001b[0;32m/usr/local/lib/python3.10/dist-packages/pandas/util/_decorators.py\u001b[0m in \u001b[0;36mwrapper\u001b[0;34m(*args, **kwargs)\u001b[0m\n\u001b[1;32m    329\u001b[0m                     \u001b[0mstacklevel\u001b[0m\u001b[0;34m=\u001b[0m\u001b[0mfind_stack_level\u001b[0m\u001b[0;34m(\u001b[0m\u001b[0;34m)\u001b[0m\u001b[0;34m,\u001b[0m\u001b[0;34m\u001b[0m\u001b[0;34m\u001b[0m\u001b[0m\n\u001b[1;32m    330\u001b[0m                 )\n\u001b[0;32m--> 331\u001b[0;31m             \u001b[0;32mreturn\u001b[0m \u001b[0mfunc\u001b[0m\u001b[0;34m(\u001b[0m\u001b[0;34m*\u001b[0m\u001b[0margs\u001b[0m\u001b[0;34m,\u001b[0m \u001b[0;34m**\u001b[0m\u001b[0mkwargs\u001b[0m\u001b[0;34m)\u001b[0m\u001b[0;34m\u001b[0m\u001b[0;34m\u001b[0m\u001b[0m\n\u001b[0m\u001b[1;32m    332\u001b[0m \u001b[0;34m\u001b[0m\u001b[0m\n\u001b[1;32m    333\u001b[0m         \u001b[0;31m# error: \"Callable[[VarArg(Any), KwArg(Any)], Any]\" has no\u001b[0m\u001b[0;34m\u001b[0m\u001b[0;34m\u001b[0m\u001b[0m\n",
            "\u001b[0;32m/usr/local/lib/python3.10/dist-packages/pandas/core/generic.py\u001b[0m in \u001b[0;36mdrop\u001b[0;34m(self, labels, axis, index, columns, level, inplace, errors)\u001b[0m\n\u001b[1;32m   4503\u001b[0m         \u001b[0;32mfor\u001b[0m \u001b[0maxis\u001b[0m\u001b[0;34m,\u001b[0m \u001b[0mlabels\u001b[0m \u001b[0;32min\u001b[0m \u001b[0maxes\u001b[0m\u001b[0;34m.\u001b[0m\u001b[0mitems\u001b[0m\u001b[0;34m(\u001b[0m\u001b[0;34m)\u001b[0m\u001b[0;34m:\u001b[0m\u001b[0;34m\u001b[0m\u001b[0;34m\u001b[0m\u001b[0m\n\u001b[1;32m   4504\u001b[0m             \u001b[0;32mif\u001b[0m \u001b[0mlabels\u001b[0m \u001b[0;32mis\u001b[0m \u001b[0;32mnot\u001b[0m \u001b[0;32mNone\u001b[0m\u001b[0;34m:\u001b[0m\u001b[0;34m\u001b[0m\u001b[0;34m\u001b[0m\u001b[0m\n\u001b[0;32m-> 4505\u001b[0;31m                 \u001b[0mobj\u001b[0m \u001b[0;34m=\u001b[0m \u001b[0mobj\u001b[0m\u001b[0;34m.\u001b[0m\u001b[0m_drop_axis\u001b[0m\u001b[0;34m(\u001b[0m\u001b[0mlabels\u001b[0m\u001b[0;34m,\u001b[0m \u001b[0maxis\u001b[0m\u001b[0;34m,\u001b[0m \u001b[0mlevel\u001b[0m\u001b[0;34m=\u001b[0m\u001b[0mlevel\u001b[0m\u001b[0;34m,\u001b[0m \u001b[0merrors\u001b[0m\u001b[0;34m=\u001b[0m\u001b[0merrors\u001b[0m\u001b[0;34m)\u001b[0m\u001b[0;34m\u001b[0m\u001b[0;34m\u001b[0m\u001b[0m\n\u001b[0m\u001b[1;32m   4506\u001b[0m \u001b[0;34m\u001b[0m\u001b[0m\n\u001b[1;32m   4507\u001b[0m         \u001b[0;32mif\u001b[0m \u001b[0minplace\u001b[0m\u001b[0;34m:\u001b[0m\u001b[0;34m\u001b[0m\u001b[0;34m\u001b[0m\u001b[0m\n",
            "\u001b[0;32m/usr/local/lib/python3.10/dist-packages/pandas/core/generic.py\u001b[0m in \u001b[0;36m_drop_axis\u001b[0;34m(self, labels, axis, level, errors, only_slice)\u001b[0m\n\u001b[1;32m   4544\u001b[0m                 \u001b[0mnew_axis\u001b[0m \u001b[0;34m=\u001b[0m \u001b[0maxis\u001b[0m\u001b[0;34m.\u001b[0m\u001b[0mdrop\u001b[0m\u001b[0;34m(\u001b[0m\u001b[0mlabels\u001b[0m\u001b[0;34m,\u001b[0m \u001b[0mlevel\u001b[0m\u001b[0;34m=\u001b[0m\u001b[0mlevel\u001b[0m\u001b[0;34m,\u001b[0m \u001b[0merrors\u001b[0m\u001b[0;34m=\u001b[0m\u001b[0merrors\u001b[0m\u001b[0;34m)\u001b[0m\u001b[0;34m\u001b[0m\u001b[0;34m\u001b[0m\u001b[0m\n\u001b[1;32m   4545\u001b[0m             \u001b[0;32melse\u001b[0m\u001b[0;34m:\u001b[0m\u001b[0;34m\u001b[0m\u001b[0;34m\u001b[0m\u001b[0m\n\u001b[0;32m-> 4546\u001b[0;31m                 \u001b[0mnew_axis\u001b[0m \u001b[0;34m=\u001b[0m \u001b[0maxis\u001b[0m\u001b[0;34m.\u001b[0m\u001b[0mdrop\u001b[0m\u001b[0;34m(\u001b[0m\u001b[0mlabels\u001b[0m\u001b[0;34m,\u001b[0m \u001b[0merrors\u001b[0m\u001b[0;34m=\u001b[0m\u001b[0merrors\u001b[0m\u001b[0;34m)\u001b[0m\u001b[0;34m\u001b[0m\u001b[0;34m\u001b[0m\u001b[0m\n\u001b[0m\u001b[1;32m   4547\u001b[0m             \u001b[0mindexer\u001b[0m \u001b[0;34m=\u001b[0m \u001b[0maxis\u001b[0m\u001b[0;34m.\u001b[0m\u001b[0mget_indexer\u001b[0m\u001b[0;34m(\u001b[0m\u001b[0mnew_axis\u001b[0m\u001b[0;34m)\u001b[0m\u001b[0;34m\u001b[0m\u001b[0;34m\u001b[0m\u001b[0m\n\u001b[1;32m   4548\u001b[0m \u001b[0;34m\u001b[0m\u001b[0m\n",
            "\u001b[0;32m/usr/local/lib/python3.10/dist-packages/pandas/core/indexes/base.py\u001b[0m in \u001b[0;36mdrop\u001b[0;34m(self, labels, errors)\u001b[0m\n\u001b[1;32m   6932\u001b[0m         \u001b[0;32mif\u001b[0m \u001b[0mmask\u001b[0m\u001b[0;34m.\u001b[0m\u001b[0many\u001b[0m\u001b[0;34m(\u001b[0m\u001b[0;34m)\u001b[0m\u001b[0;34m:\u001b[0m\u001b[0;34m\u001b[0m\u001b[0;34m\u001b[0m\u001b[0m\n\u001b[1;32m   6933\u001b[0m             \u001b[0;32mif\u001b[0m \u001b[0merrors\u001b[0m \u001b[0;34m!=\u001b[0m \u001b[0;34m\"ignore\"\u001b[0m\u001b[0;34m:\u001b[0m\u001b[0;34m\u001b[0m\u001b[0;34m\u001b[0m\u001b[0m\n\u001b[0;32m-> 6934\u001b[0;31m                 \u001b[0;32mraise\u001b[0m \u001b[0mKeyError\u001b[0m\u001b[0;34m(\u001b[0m\u001b[0;34mf\"{list(labels[mask])} not found in axis\"\u001b[0m\u001b[0;34m)\u001b[0m\u001b[0;34m\u001b[0m\u001b[0;34m\u001b[0m\u001b[0m\n\u001b[0m\u001b[1;32m   6935\u001b[0m             \u001b[0mindexer\u001b[0m \u001b[0;34m=\u001b[0m \u001b[0mindexer\u001b[0m\u001b[0;34m[\u001b[0m\u001b[0;34m~\u001b[0m\u001b[0mmask\u001b[0m\u001b[0;34m]\u001b[0m\u001b[0;34m\u001b[0m\u001b[0;34m\u001b[0m\u001b[0m\n\u001b[1;32m   6936\u001b[0m         \u001b[0;32mreturn\u001b[0m \u001b[0mself\u001b[0m\u001b[0;34m.\u001b[0m\u001b[0mdelete\u001b[0m\u001b[0;34m(\u001b[0m\u001b[0mindexer\u001b[0m\u001b[0;34m)\u001b[0m\u001b[0;34m\u001b[0m\u001b[0;34m\u001b[0m\u001b[0m\n",
            "\u001b[0;31mKeyError\u001b[0m: '[38] not found in axis'"
          ]
        }
      ]
    },
    {
      "cell_type": "code",
      "source": [
        "rr.head(5)\n"
      ],
      "metadata": {
        "colab": {
          "base_uri": "https://localhost:8080/",
          "height": 206
        },
        "id": "QhiRMWNwB22s",
        "outputId": "1231eba8-79ae-43c7-de98-07516b5b977b"
      },
      "execution_count": null,
      "outputs": [
        {
          "output_type": "execute_result",
          "data": {
            "text/plain": [
              "   SL   NAME  AGE\n",
              "0   1  MANOJ   20\n",
              "1   2   RAJU   30\n",
              "2   3   RAMU   21\n",
              "3   4   RAVI   55\n",
              "4   5  MANOJ   20"
            ],
            "text/html": [
              "\n",
              "  <div id=\"df-1e3d79d5-4d5a-421a-b76d-2a174bf3adc4\" class=\"colab-df-container\">\n",
              "    <div>\n",
              "<style scoped>\n",
              "    .dataframe tbody tr th:only-of-type {\n",
              "        vertical-align: middle;\n",
              "    }\n",
              "\n",
              "    .dataframe tbody tr th {\n",
              "        vertical-align: top;\n",
              "    }\n",
              "\n",
              "    .dataframe thead th {\n",
              "        text-align: right;\n",
              "    }\n",
              "</style>\n",
              "<table border=\"1\" class=\"dataframe\">\n",
              "  <thead>\n",
              "    <tr style=\"text-align: right;\">\n",
              "      <th></th>\n",
              "      <th>SL</th>\n",
              "      <th>NAME</th>\n",
              "      <th>AGE</th>\n",
              "    </tr>\n",
              "  </thead>\n",
              "  <tbody>\n",
              "    <tr>\n",
              "      <th>0</th>\n",
              "      <td>1</td>\n",
              "      <td>MANOJ</td>\n",
              "      <td>20</td>\n",
              "    </tr>\n",
              "    <tr>\n",
              "      <th>1</th>\n",
              "      <td>2</td>\n",
              "      <td>RAJU</td>\n",
              "      <td>30</td>\n",
              "    </tr>\n",
              "    <tr>\n",
              "      <th>2</th>\n",
              "      <td>3</td>\n",
              "      <td>RAMU</td>\n",
              "      <td>21</td>\n",
              "    </tr>\n",
              "    <tr>\n",
              "      <th>3</th>\n",
              "      <td>4</td>\n",
              "      <td>RAVI</td>\n",
              "      <td>55</td>\n",
              "    </tr>\n",
              "    <tr>\n",
              "      <th>4</th>\n",
              "      <td>5</td>\n",
              "      <td>MANOJ</td>\n",
              "      <td>20</td>\n",
              "    </tr>\n",
              "  </tbody>\n",
              "</table>\n",
              "</div>\n",
              "    <div class=\"colab-df-buttons\">\n",
              "\n",
              "  <div class=\"colab-df-container\">\n",
              "    <button class=\"colab-df-convert\" onclick=\"convertToInteractive('df-1e3d79d5-4d5a-421a-b76d-2a174bf3adc4')\"\n",
              "            title=\"Convert this dataframe to an interactive table.\"\n",
              "            style=\"display:none;\">\n",
              "\n",
              "  <svg xmlns=\"http://www.w3.org/2000/svg\" height=\"24px\" viewBox=\"0 -960 960 960\">\n",
              "    <path d=\"M120-120v-720h720v720H120Zm60-500h600v-160H180v160Zm220 220h160v-160H400v160Zm0 220h160v-160H400v160ZM180-400h160v-160H180v160Zm440 0h160v-160H620v160ZM180-180h160v-160H180v160Zm440 0h160v-160H620v160Z\"/>\n",
              "  </svg>\n",
              "    </button>\n",
              "\n",
              "  <style>\n",
              "    .colab-df-container {\n",
              "      display:flex;\n",
              "      gap: 12px;\n",
              "    }\n",
              "\n",
              "    .colab-df-convert {\n",
              "      background-color: #E8F0FE;\n",
              "      border: none;\n",
              "      border-radius: 50%;\n",
              "      cursor: pointer;\n",
              "      display: none;\n",
              "      fill: #1967D2;\n",
              "      height: 32px;\n",
              "      padding: 0 0 0 0;\n",
              "      width: 32px;\n",
              "    }\n",
              "\n",
              "    .colab-df-convert:hover {\n",
              "      background-color: #E2EBFA;\n",
              "      box-shadow: 0px 1px 2px rgba(60, 64, 67, 0.3), 0px 1px 3px 1px rgba(60, 64, 67, 0.15);\n",
              "      fill: #174EA6;\n",
              "    }\n",
              "\n",
              "    .colab-df-buttons div {\n",
              "      margin-bottom: 4px;\n",
              "    }\n",
              "\n",
              "    [theme=dark] .colab-df-convert {\n",
              "      background-color: #3B4455;\n",
              "      fill: #D2E3FC;\n",
              "    }\n",
              "\n",
              "    [theme=dark] .colab-df-convert:hover {\n",
              "      background-color: #434B5C;\n",
              "      box-shadow: 0px 1px 3px 1px rgba(0, 0, 0, 0.15);\n",
              "      filter: drop-shadow(0px 1px 2px rgba(0, 0, 0, 0.3));\n",
              "      fill: #FFFFFF;\n",
              "    }\n",
              "  </style>\n",
              "\n",
              "    <script>\n",
              "      const buttonEl =\n",
              "        document.querySelector('#df-1e3d79d5-4d5a-421a-b76d-2a174bf3adc4 button.colab-df-convert');\n",
              "      buttonEl.style.display =\n",
              "        google.colab.kernel.accessAllowed ? 'block' : 'none';\n",
              "\n",
              "      async function convertToInteractive(key) {\n",
              "        const element = document.querySelector('#df-1e3d79d5-4d5a-421a-b76d-2a174bf3adc4');\n",
              "        const dataTable =\n",
              "          await google.colab.kernel.invokeFunction('convertToInteractive',\n",
              "                                                    [key], {});\n",
              "        if (!dataTable) return;\n",
              "\n",
              "        const docLinkHtml = 'Like what you see? Visit the ' +\n",
              "          '<a target=\"_blank\" href=https://colab.research.google.com/notebooks/data_table.ipynb>data table notebook</a>'\n",
              "          + ' to learn more about interactive tables.';\n",
              "        element.innerHTML = '';\n",
              "        dataTable['output_type'] = 'display_data';\n",
              "        await google.colab.output.renderOutput(dataTable, element);\n",
              "        const docLink = document.createElement('div');\n",
              "        docLink.innerHTML = docLinkHtml;\n",
              "        element.appendChild(docLink);\n",
              "      }\n",
              "    </script>\n",
              "  </div>\n",
              "\n",
              "\n",
              "<div id=\"df-89d4c6b9-da0b-4940-96c8-b93ad1c301c8\">\n",
              "  <button class=\"colab-df-quickchart\" onclick=\"quickchart('df-89d4c6b9-da0b-4940-96c8-b93ad1c301c8')\"\n",
              "            title=\"Suggest charts\"\n",
              "            style=\"display:none;\">\n",
              "\n",
              "<svg xmlns=\"http://www.w3.org/2000/svg\" height=\"24px\"viewBox=\"0 0 24 24\"\n",
              "     width=\"24px\">\n",
              "    <g>\n",
              "        <path d=\"M19 3H5c-1.1 0-2 .9-2 2v14c0 1.1.9 2 2 2h14c1.1 0 2-.9 2-2V5c0-1.1-.9-2-2-2zM9 17H7v-7h2v7zm4 0h-2V7h2v10zm4 0h-2v-4h2v4z\"/>\n",
              "    </g>\n",
              "</svg>\n",
              "  </button>\n",
              "\n",
              "<style>\n",
              "  .colab-df-quickchart {\n",
              "      --bg-color: #E8F0FE;\n",
              "      --fill-color: #1967D2;\n",
              "      --hover-bg-color: #E2EBFA;\n",
              "      --hover-fill-color: #174EA6;\n",
              "      --disabled-fill-color: #AAA;\n",
              "      --disabled-bg-color: #DDD;\n",
              "  }\n",
              "\n",
              "  [theme=dark] .colab-df-quickchart {\n",
              "      --bg-color: #3B4455;\n",
              "      --fill-color: #D2E3FC;\n",
              "      --hover-bg-color: #434B5C;\n",
              "      --hover-fill-color: #FFFFFF;\n",
              "      --disabled-bg-color: #3B4455;\n",
              "      --disabled-fill-color: #666;\n",
              "  }\n",
              "\n",
              "  .colab-df-quickchart {\n",
              "    background-color: var(--bg-color);\n",
              "    border: none;\n",
              "    border-radius: 50%;\n",
              "    cursor: pointer;\n",
              "    display: none;\n",
              "    fill: var(--fill-color);\n",
              "    height: 32px;\n",
              "    padding: 0;\n",
              "    width: 32px;\n",
              "  }\n",
              "\n",
              "  .colab-df-quickchart:hover {\n",
              "    background-color: var(--hover-bg-color);\n",
              "    box-shadow: 0 1px 2px rgba(60, 64, 67, 0.3), 0 1px 3px 1px rgba(60, 64, 67, 0.15);\n",
              "    fill: var(--button-hover-fill-color);\n",
              "  }\n",
              "\n",
              "  .colab-df-quickchart-complete:disabled,\n",
              "  .colab-df-quickchart-complete:disabled:hover {\n",
              "    background-color: var(--disabled-bg-color);\n",
              "    fill: var(--disabled-fill-color);\n",
              "    box-shadow: none;\n",
              "  }\n",
              "\n",
              "  .colab-df-spinner {\n",
              "    border: 2px solid var(--fill-color);\n",
              "    border-color: transparent;\n",
              "    border-bottom-color: var(--fill-color);\n",
              "    animation:\n",
              "      spin 1s steps(1) infinite;\n",
              "  }\n",
              "\n",
              "  @keyframes spin {\n",
              "    0% {\n",
              "      border-color: transparent;\n",
              "      border-bottom-color: var(--fill-color);\n",
              "      border-left-color: var(--fill-color);\n",
              "    }\n",
              "    20% {\n",
              "      border-color: transparent;\n",
              "      border-left-color: var(--fill-color);\n",
              "      border-top-color: var(--fill-color);\n",
              "    }\n",
              "    30% {\n",
              "      border-color: transparent;\n",
              "      border-left-color: var(--fill-color);\n",
              "      border-top-color: var(--fill-color);\n",
              "      border-right-color: var(--fill-color);\n",
              "    }\n",
              "    40% {\n",
              "      border-color: transparent;\n",
              "      border-right-color: var(--fill-color);\n",
              "      border-top-color: var(--fill-color);\n",
              "    }\n",
              "    60% {\n",
              "      border-color: transparent;\n",
              "      border-right-color: var(--fill-color);\n",
              "    }\n",
              "    80% {\n",
              "      border-color: transparent;\n",
              "      border-right-color: var(--fill-color);\n",
              "      border-bottom-color: var(--fill-color);\n",
              "    }\n",
              "    90% {\n",
              "      border-color: transparent;\n",
              "      border-bottom-color: var(--fill-color);\n",
              "    }\n",
              "  }\n",
              "</style>\n",
              "\n",
              "  <script>\n",
              "    async function quickchart(key) {\n",
              "      const quickchartButtonEl =\n",
              "        document.querySelector('#' + key + ' button');\n",
              "      quickchartButtonEl.disabled = true;  // To prevent multiple clicks.\n",
              "      quickchartButtonEl.classList.add('colab-df-spinner');\n",
              "      try {\n",
              "        const charts = await google.colab.kernel.invokeFunction(\n",
              "            'suggestCharts', [key], {});\n",
              "      } catch (error) {\n",
              "        console.error('Error during call to suggestCharts:', error);\n",
              "      }\n",
              "      quickchartButtonEl.classList.remove('colab-df-spinner');\n",
              "      quickchartButtonEl.classList.add('colab-df-quickchart-complete');\n",
              "    }\n",
              "    (() => {\n",
              "      let quickchartButtonEl =\n",
              "        document.querySelector('#df-89d4c6b9-da0b-4940-96c8-b93ad1c301c8 button');\n",
              "      quickchartButtonEl.style.display =\n",
              "        google.colab.kernel.accessAllowed ? 'block' : 'none';\n",
              "    })();\n",
              "  </script>\n",
              "</div>\n",
              "\n",
              "    </div>\n",
              "  </div>\n"
            ]
          },
          "metadata": {},
          "execution_count": 57
        }
      ]
    },
    {
      "cell_type": "code",
      "source": [
        "rr=rr.drop_duplicates()\n",
        "print(rr)\n"
      ],
      "metadata": {
        "colab": {
          "base_uri": "https://localhost:8080/"
        },
        "id": "RUV1iCY1CONP",
        "outputId": "fc0df3da-55e3-4f0e-f3c6-48d5048fbf50"
      },
      "execution_count": null,
      "outputs": [
        {
          "output_type": "stream",
          "name": "stdout",
          "text": [
            "   SL   NAME  AGE\n",
            "0   1  MANOJ   20\n",
            "1   2   RAJU   30\n",
            "2   3   RAMU   21\n",
            "3   4   RAVI   55\n",
            "4   5  MANOJ   20\n",
            "5   6  MANOJ   20\n",
            "6   7   NAGU   55\n",
            "7   8   RAJU   26\n",
            "8   9   ANAD   22\n"
          ]
        }
      ]
    },
    {
      "cell_type": "code",
      "source": [
        "rr=pd.read_excel(\"/content/duplicate.xlsx\")\n",
        "print(rr)\n",
        "rr=rr.drop_duplicates()\n",
        "print(rr)\n"
      ],
      "metadata": {
        "colab": {
          "base_uri": "https://localhost:8080/"
        },
        "id": "0oBNbWh5C-KS",
        "outputId": "b7d8b318-d98f-491c-8635-5e774a96bf3c"
      },
      "execution_count": null,
      "outputs": [
        {
          "output_type": "stream",
          "name": "stdout",
          "text": [
            "   SL   NAME  AGE\n",
            "0   1  MANOJ   20\n",
            "1   1   RAJU   30\n",
            "2   3   RAMU   21\n",
            "3   4   RAVI   55\n",
            "4   1  MANOJ   20\n",
            "5   1  MANOJ   20\n",
            "6   7   NAGU   55\n",
            "7   8   RAJU   26\n",
            "8   9   ANAD   22\n",
            "   SL   NAME  AGE\n",
            "0   1  MANOJ   20\n",
            "1   1   RAJU   30\n",
            "2   3   RAMU   21\n",
            "3   4   RAVI   55\n",
            "6   7   NAGU   55\n",
            "7   8   RAJU   26\n",
            "8   9   ANAD   22\n"
          ]
        }
      ]
    },
    {
      "cell_type": "code",
      "source": [
        "rr.head(4)\n"
      ],
      "metadata": {
        "colab": {
          "base_uri": "https://localhost:8080/",
          "height": 175
        },
        "id": "pCeINYGLDKiu",
        "outputId": "db07ffdf-f7ed-42a3-b794-80bda0fa4abb"
      },
      "execution_count": null,
      "outputs": [
        {
          "output_type": "execute_result",
          "data": {
            "text/plain": [
              "   SL   NAME  AGE\n",
              "0   1  MANOJ   20\n",
              "1   1   RAJU   30\n",
              "2   3   RAMU   21\n",
              "3   4   RAVI   55"
            ],
            "text/html": [
              "\n",
              "  <div id=\"df-3b9e1d76-9475-479e-be8d-da7c3638ebb5\" class=\"colab-df-container\">\n",
              "    <div>\n",
              "<style scoped>\n",
              "    .dataframe tbody tr th:only-of-type {\n",
              "        vertical-align: middle;\n",
              "    }\n",
              "\n",
              "    .dataframe tbody tr th {\n",
              "        vertical-align: top;\n",
              "    }\n",
              "\n",
              "    .dataframe thead th {\n",
              "        text-align: right;\n",
              "    }\n",
              "</style>\n",
              "<table border=\"1\" class=\"dataframe\">\n",
              "  <thead>\n",
              "    <tr style=\"text-align: right;\">\n",
              "      <th></th>\n",
              "      <th>SL</th>\n",
              "      <th>NAME</th>\n",
              "      <th>AGE</th>\n",
              "    </tr>\n",
              "  </thead>\n",
              "  <tbody>\n",
              "    <tr>\n",
              "      <th>0</th>\n",
              "      <td>1</td>\n",
              "      <td>MANOJ</td>\n",
              "      <td>20</td>\n",
              "    </tr>\n",
              "    <tr>\n",
              "      <th>1</th>\n",
              "      <td>1</td>\n",
              "      <td>RAJU</td>\n",
              "      <td>30</td>\n",
              "    </tr>\n",
              "    <tr>\n",
              "      <th>2</th>\n",
              "      <td>3</td>\n",
              "      <td>RAMU</td>\n",
              "      <td>21</td>\n",
              "    </tr>\n",
              "    <tr>\n",
              "      <th>3</th>\n",
              "      <td>4</td>\n",
              "      <td>RAVI</td>\n",
              "      <td>55</td>\n",
              "    </tr>\n",
              "  </tbody>\n",
              "</table>\n",
              "</div>\n",
              "    <div class=\"colab-df-buttons\">\n",
              "\n",
              "  <div class=\"colab-df-container\">\n",
              "    <button class=\"colab-df-convert\" onclick=\"convertToInteractive('df-3b9e1d76-9475-479e-be8d-da7c3638ebb5')\"\n",
              "            title=\"Convert this dataframe to an interactive table.\"\n",
              "            style=\"display:none;\">\n",
              "\n",
              "  <svg xmlns=\"http://www.w3.org/2000/svg\" height=\"24px\" viewBox=\"0 -960 960 960\">\n",
              "    <path d=\"M120-120v-720h720v720H120Zm60-500h600v-160H180v160Zm220 220h160v-160H400v160Zm0 220h160v-160H400v160ZM180-400h160v-160H180v160Zm440 0h160v-160H620v160ZM180-180h160v-160H180v160Zm440 0h160v-160H620v160Z\"/>\n",
              "  </svg>\n",
              "    </button>\n",
              "\n",
              "  <style>\n",
              "    .colab-df-container {\n",
              "      display:flex;\n",
              "      gap: 12px;\n",
              "    }\n",
              "\n",
              "    .colab-df-convert {\n",
              "      background-color: #E8F0FE;\n",
              "      border: none;\n",
              "      border-radius: 50%;\n",
              "      cursor: pointer;\n",
              "      display: none;\n",
              "      fill: #1967D2;\n",
              "      height: 32px;\n",
              "      padding: 0 0 0 0;\n",
              "      width: 32px;\n",
              "    }\n",
              "\n",
              "    .colab-df-convert:hover {\n",
              "      background-color: #E2EBFA;\n",
              "      box-shadow: 0px 1px 2px rgba(60, 64, 67, 0.3), 0px 1px 3px 1px rgba(60, 64, 67, 0.15);\n",
              "      fill: #174EA6;\n",
              "    }\n",
              "\n",
              "    .colab-df-buttons div {\n",
              "      margin-bottom: 4px;\n",
              "    }\n",
              "\n",
              "    [theme=dark] .colab-df-convert {\n",
              "      background-color: #3B4455;\n",
              "      fill: #D2E3FC;\n",
              "    }\n",
              "\n",
              "    [theme=dark] .colab-df-convert:hover {\n",
              "      background-color: #434B5C;\n",
              "      box-shadow: 0px 1px 3px 1px rgba(0, 0, 0, 0.15);\n",
              "      filter: drop-shadow(0px 1px 2px rgba(0, 0, 0, 0.3));\n",
              "      fill: #FFFFFF;\n",
              "    }\n",
              "  </style>\n",
              "\n",
              "    <script>\n",
              "      const buttonEl =\n",
              "        document.querySelector('#df-3b9e1d76-9475-479e-be8d-da7c3638ebb5 button.colab-df-convert');\n",
              "      buttonEl.style.display =\n",
              "        google.colab.kernel.accessAllowed ? 'block' : 'none';\n",
              "\n",
              "      async function convertToInteractive(key) {\n",
              "        const element = document.querySelector('#df-3b9e1d76-9475-479e-be8d-da7c3638ebb5');\n",
              "        const dataTable =\n",
              "          await google.colab.kernel.invokeFunction('convertToInteractive',\n",
              "                                                    [key], {});\n",
              "        if (!dataTable) return;\n",
              "\n",
              "        const docLinkHtml = 'Like what you see? Visit the ' +\n",
              "          '<a target=\"_blank\" href=https://colab.research.google.com/notebooks/data_table.ipynb>data table notebook</a>'\n",
              "          + ' to learn more about interactive tables.';\n",
              "        element.innerHTML = '';\n",
              "        dataTable['output_type'] = 'display_data';\n",
              "        await google.colab.output.renderOutput(dataTable, element);\n",
              "        const docLink = document.createElement('div');\n",
              "        docLink.innerHTML = docLinkHtml;\n",
              "        element.appendChild(docLink);\n",
              "      }\n",
              "    </script>\n",
              "  </div>\n",
              "\n",
              "\n",
              "<div id=\"df-61dd7565-4455-418a-9947-e52edf56f8a1\">\n",
              "  <button class=\"colab-df-quickchart\" onclick=\"quickchart('df-61dd7565-4455-418a-9947-e52edf56f8a1')\"\n",
              "            title=\"Suggest charts\"\n",
              "            style=\"display:none;\">\n",
              "\n",
              "<svg xmlns=\"http://www.w3.org/2000/svg\" height=\"24px\"viewBox=\"0 0 24 24\"\n",
              "     width=\"24px\">\n",
              "    <g>\n",
              "        <path d=\"M19 3H5c-1.1 0-2 .9-2 2v14c0 1.1.9 2 2 2h14c1.1 0 2-.9 2-2V5c0-1.1-.9-2-2-2zM9 17H7v-7h2v7zm4 0h-2V7h2v10zm4 0h-2v-4h2v4z\"/>\n",
              "    </g>\n",
              "</svg>\n",
              "  </button>\n",
              "\n",
              "<style>\n",
              "  .colab-df-quickchart {\n",
              "      --bg-color: #E8F0FE;\n",
              "      --fill-color: #1967D2;\n",
              "      --hover-bg-color: #E2EBFA;\n",
              "      --hover-fill-color: #174EA6;\n",
              "      --disabled-fill-color: #AAA;\n",
              "      --disabled-bg-color: #DDD;\n",
              "  }\n",
              "\n",
              "  [theme=dark] .colab-df-quickchart {\n",
              "      --bg-color: #3B4455;\n",
              "      --fill-color: #D2E3FC;\n",
              "      --hover-bg-color: #434B5C;\n",
              "      --hover-fill-color: #FFFFFF;\n",
              "      --disabled-bg-color: #3B4455;\n",
              "      --disabled-fill-color: #666;\n",
              "  }\n",
              "\n",
              "  .colab-df-quickchart {\n",
              "    background-color: var(--bg-color);\n",
              "    border: none;\n",
              "    border-radius: 50%;\n",
              "    cursor: pointer;\n",
              "    display: none;\n",
              "    fill: var(--fill-color);\n",
              "    height: 32px;\n",
              "    padding: 0;\n",
              "    width: 32px;\n",
              "  }\n",
              "\n",
              "  .colab-df-quickchart:hover {\n",
              "    background-color: var(--hover-bg-color);\n",
              "    box-shadow: 0 1px 2px rgba(60, 64, 67, 0.3), 0 1px 3px 1px rgba(60, 64, 67, 0.15);\n",
              "    fill: var(--button-hover-fill-color);\n",
              "  }\n",
              "\n",
              "  .colab-df-quickchart-complete:disabled,\n",
              "  .colab-df-quickchart-complete:disabled:hover {\n",
              "    background-color: var(--disabled-bg-color);\n",
              "    fill: var(--disabled-fill-color);\n",
              "    box-shadow: none;\n",
              "  }\n",
              "\n",
              "  .colab-df-spinner {\n",
              "    border: 2px solid var(--fill-color);\n",
              "    border-color: transparent;\n",
              "    border-bottom-color: var(--fill-color);\n",
              "    animation:\n",
              "      spin 1s steps(1) infinite;\n",
              "  }\n",
              "\n",
              "  @keyframes spin {\n",
              "    0% {\n",
              "      border-color: transparent;\n",
              "      border-bottom-color: var(--fill-color);\n",
              "      border-left-color: var(--fill-color);\n",
              "    }\n",
              "    20% {\n",
              "      border-color: transparent;\n",
              "      border-left-color: var(--fill-color);\n",
              "      border-top-color: var(--fill-color);\n",
              "    }\n",
              "    30% {\n",
              "      border-color: transparent;\n",
              "      border-left-color: var(--fill-color);\n",
              "      border-top-color: var(--fill-color);\n",
              "      border-right-color: var(--fill-color);\n",
              "    }\n",
              "    40% {\n",
              "      border-color: transparent;\n",
              "      border-right-color: var(--fill-color);\n",
              "      border-top-color: var(--fill-color);\n",
              "    }\n",
              "    60% {\n",
              "      border-color: transparent;\n",
              "      border-right-color: var(--fill-color);\n",
              "    }\n",
              "    80% {\n",
              "      border-color: transparent;\n",
              "      border-right-color: var(--fill-color);\n",
              "      border-bottom-color: var(--fill-color);\n",
              "    }\n",
              "    90% {\n",
              "      border-color: transparent;\n",
              "      border-bottom-color: var(--fill-color);\n",
              "    }\n",
              "  }\n",
              "</style>\n",
              "\n",
              "  <script>\n",
              "    async function quickchart(key) {\n",
              "      const quickchartButtonEl =\n",
              "        document.querySelector('#' + key + ' button');\n",
              "      quickchartButtonEl.disabled = true;  // To prevent multiple clicks.\n",
              "      quickchartButtonEl.classList.add('colab-df-spinner');\n",
              "      try {\n",
              "        const charts = await google.colab.kernel.invokeFunction(\n",
              "            'suggestCharts', [key], {});\n",
              "      } catch (error) {\n",
              "        console.error('Error during call to suggestCharts:', error);\n",
              "      }\n",
              "      quickchartButtonEl.classList.remove('colab-df-spinner');\n",
              "      quickchartButtonEl.classList.add('colab-df-quickchart-complete');\n",
              "    }\n",
              "    (() => {\n",
              "      let quickchartButtonEl =\n",
              "        document.querySelector('#df-61dd7565-4455-418a-9947-e52edf56f8a1 button');\n",
              "      quickchartButtonEl.style.display =\n",
              "        google.colab.kernel.accessAllowed ? 'block' : 'none';\n",
              "    })();\n",
              "  </script>\n",
              "</div>\n",
              "\n",
              "    </div>\n",
              "  </div>\n"
            ]
          },
          "metadata": {},
          "execution_count": 62
        }
      ]
    },
    {
      "cell_type": "code",
      "source": [
        "from google.colab import drive\n",
        "drive.mount('/content/drive')"
      ],
      "metadata": {
        "colab": {
          "base_uri": "https://localhost:8080/"
        },
        "id": "ACfsSLBhFoSz",
        "outputId": "b38a1946-8d0b-40e2-8ac8-3a5a01789cff"
      },
      "execution_count": null,
      "outputs": [
        {
          "output_type": "stream",
          "name": "stdout",
          "text": [
            "Mounted at /content/drive\n"
          ]
        }
      ]
    },
    {
      "cell_type": "code",
      "source": [
        "rr.shape\n"
      ],
      "metadata": {
        "colab": {
          "base_uri": "https://localhost:8080/"
        },
        "id": "F_8rNTKvIExh",
        "outputId": "3f714a89-0a35-42e3-f971-00be6824cd80"
      },
      "execution_count": null,
      "outputs": [
        {
          "output_type": "execute_result",
          "data": {
            "text/plain": [
              "(9, 3)"
            ]
          },
          "metadata": {},
          "execution_count": 71
        }
      ]
    },
    {
      "cell_type": "code",
      "source": [
        "df.shape\n",
        "last=df.tail(10)\n",
        "print(last)\n",
        "for i in range(27,38,-1):\n",
        "   last.drop([i],axis=0, inplace=True)\n",
        "dataa=pd.concat([last],axis=0)\n",
        "dataa.to_csv(\"done.csv\")\n",
        "\n"
      ],
      "metadata": {
        "colab": {
          "base_uri": "https://localhost:8080/"
        },
        "id": "BVnnVCGxO3QW",
        "outputId": "6ca5ec2f-573b-4d06-d75f-561d9b8223e6"
      },
      "execution_count": null,
      "outputs": [
        {
          "output_type": "stream",
          "name": "stdout",
          "text": [
            "   Name of the Volunteer Head of the family  Name of the Candidate/Citizen  \\\n",
            "28          m sudharshan    parasa gangaraju                   p gangaraju   \n",
            "29          m sudharshan    parasa gangaraju        siribathina raghupathi   \n",
            "30          m sudharshan          sk kasamma                    sk allabhi   \n",
            "31          m sudharshan  konakalla subbarao                  k punyavathi   \n",
            "32          m sudharshan  konakalla subbarao             k kanakadurgambha   \n",
            "33          m sudharshan      meka kanakamma                   m kanakamma   \n",
            "34          m sudharshan  madhu suryakantham                m suryakantham   \n",
            "35          m sudharshan       parasa ratalu                      p ratalu   \n",
            "36            M radhamma   madhu malleswarao                 m malleswarao   \n",
            "37            M radhamma   madhu malleswarao                    m rangamma   \n",
            "\n",
            "      Age/Sex Death/Migration       AREA  \n",
            "28  77.000000           death  65.588235  \n",
            "29  82.000000          death   65.588235  \n",
            "30  19.000000           death  65.588235  \n",
            "31  65.588235           death  65.588235  \n",
            "32  65.588235           death  65.588235  \n",
            "33  47.000000           death  65.588235  \n",
            "34  87.000000          death   65.588235  \n",
            "35  47.000000           death  65.588235  \n",
            "36  62.000000          death   65.588235  \n",
            "37  57.000000          Death   65.588235  \n"
          ]
        }
      ]
    },
    {
      "cell_type": "code",
      "source": [
        "print(df.groupby(['Age/Sex'])['Death/Migration'].count())"
      ],
      "metadata": {
        "colab": {
          "base_uri": "https://localhost:8080/"
        },
        "id": "Q0ly5BGOTMP1",
        "outputId": "4456abf1-a46b-479d-b9e2-929a7f4b747b"
      },
      "execution_count": null,
      "outputs": [
        {
          "output_type": "stream",
          "name": "stdout",
          "text": [
            "Age/Sex\n",
            "19.000000    1\n",
            "30.000000    1\n",
            "32.000000    1\n",
            "35.000000    1\n",
            "47.000000    3\n",
            "48.000000    1\n",
            "50.000000    1\n",
            "57.000000    1\n",
            "60.000000    1\n",
            "62.000000    2\n",
            "65.588235    4\n",
            "67.000000    1\n",
            "70.000000    4\n",
            "73.000000    1\n",
            "75.000000    2\n",
            "76.000000    1\n",
            "77.000000    1\n",
            "80.000000    5\n",
            "82.000000    2\n",
            "85.000000    2\n",
            "87.000000    1\n",
            "90.000000    1\n",
            "Name: Death/Migration, dtype: int64\n"
          ]
        }
      ]
    },
    {
      "cell_type": "code",
      "source": [
        "print(df.groupby(['Name of the Volunteer'])['Head of the family '].count())"
      ],
      "metadata": {
        "colab": {
          "base_uri": "https://localhost:8080/"
        },
        "id": "23a6PCoBVXfG",
        "outputId": "6bfcb1c8-a899-44b8-d989-676e8632ed36"
      },
      "execution_count": null,
      "outputs": [
        {
          "output_type": "stream",
          "name": "stdout",
          "text": [
            "Name of the Volunteer\n",
            "M radhamma       2\n",
            "ML sirisha       4\n",
            "ch sravani      17\n",
            "m ramya          2\n",
            "m sirisha        5\n",
            "m sudharshan     8\n",
            "Name: Head of the family , dtype: int64\n"
          ]
        }
      ]
    }
  ]
}